{
 "cells": [
  {
   "cell_type": "code",
   "execution_count": 47,
   "metadata": {},
   "outputs": [],
   "source": [
    "import torch"
   ]
  },
  {
   "cell_type": "code",
   "execution_count": 75,
   "metadata": {},
   "outputs": [
    {
     "name": "stdout",
     "output_type": "stream",
     "text": [
      "The autoreload extension is already loaded. To reload it, use:\n",
      "  %reload_ext autoreload\n",
      "Test-Loss: 1.9314217836626115\n",
      "Test-Accuracy: 0.09474843922144693\n",
      "Train-Loss: 1.7930554479995604\n",
      "Train-Accuracy: 0.25376561351947097\n",
      "Test-Loss: 1.604015391243518\n",
      "Test-Accuracy: 0.33492471538744034\n",
      "Train-Loss: 1.2389815843867344\n",
      "Train-Accuracy: 0.5062454077883909\n",
      "Test-Loss: 0.9452319960615152\n",
      "Test-Accuracy: 0.6033786265148733\n",
      "Train-Loss: 0.7485366283336341\n",
      "Train-Accuracy: 0.7460506980161646\n",
      "Test-Loss: 0.5642419099545549\n",
      "Test-Accuracy: 0.8259272860815278\n",
      "Train-Loss: 0.46391753637773164\n",
      "Train-Accuracy: 0.8520389419544453\n",
      "Test-Loss: 0.3771329084493198\n",
      "Test-Accuracy: 0.8813808299669482\n",
      "Train-Loss: 0.3580858466050517\n",
      "Train-Accuracy: 0.8784900808229243\n",
      "Test-Loss: 0.34158417301749555\n",
      "Test-Accuracy: 0.8718325376423063\n",
      "Train-Loss: 0.32596046036597914\n",
      "Train-Accuracy: 0.8842762674504041\n",
      "Test-Loss: 0.32741229919459985\n",
      "Test-Accuracy: 0.884318766066838\n",
      "Train-Loss: 0.31187920725899615\n",
      "Train-Accuracy: 0.8877663482733285\n",
      "Test-Loss: 0.323791583020831\n",
      "Test-Accuracy: 0.884318766066838\n",
      "Train-Loss: 0.30383939389515774\n",
      "Train-Accuracy: 0.887582659808964\n"
     ]
    }
   ],
   "source": [
    "%load_ext autoreload\n",
    "%autoreload 2\n",
    "\n",
    "from torch.utils.data.dataloader import DataLoader\n",
    "from data.datasets import DryBean\n",
    "from model.training import train_model\n",
    "from model.models import NeuralNetwork\n",
    "\n",
    "model = train_model()[0]\n",
    "\n",
    "#train_data = DryBean(train=True)\n",
    "\n",
    "\n"
   ]
  },
  {
   "cell_type": "code",
   "execution_count": 79,
   "metadata": {},
   "outputs": [
    {
     "name": "stdout",
     "output_type": "stream",
     "text": [
      "tensor([0.3511, 0.0356, 0.3660, 0.0042, 0.0759, 0.0160, 0.1512])\n",
      "tensor([0., 0., 0., 1., 0., 0., 0.])\n"
     ]
    }
   ],
   "source": [
    "dataset = DryBean(train=True)\n",
    "\n",
    "true_x, true_y = dataset[0]\n",
    "\n",
    "\n",
    "pred_y = model.evaluate(torch.zeros_like(true_x))\n",
    "print(pred_y)\n",
    "print(true_y)\n"
   ]
  },
  {
   "cell_type": "code",
   "execution_count": null,
   "metadata": {},
   "outputs": [],
   "source": []
  }
 ],
 "metadata": {
  "kernelspec": {
   "display_name": "attribution_methods_venv",
   "language": "python",
   "name": "python3"
  },
  "language_info": {
   "codemirror_mode": {
    "name": "ipython",
    "version": 3
   },
   "file_extension": ".py",
   "mimetype": "text/x-python",
   "name": "python",
   "nbconvert_exporter": "python",
   "pygments_lexer": "ipython3",
   "version": "3.10.8"
  },
  "orig_nbformat": 4
 },
 "nbformat": 4,
 "nbformat_minor": 2
}
