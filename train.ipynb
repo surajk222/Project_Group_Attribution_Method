{
 "cells": [
  {
   "cell_type": "code",
   "execution_count": 7,
   "metadata": {},
   "outputs": [],
   "source": [
    "import captum.attr\n",
    "import torch"
   ]
  },
  {
   "cell_type": "code",
   "execution_count": 8,
   "metadata": {},
   "outputs": [
    {
     "name": "stdout",
     "output_type": "stream",
     "text": [
      "Epoch nr.: 0\n",
      "Test-Loss: 1.9354173683980753\n",
      "Test-Accuracy: 0.19676945668135096\n",
      "Train-Loss: 1.8060009542587134\n",
      "Train-Accuracy: 0.2547759000734754\n",
      "Epoch nr.: 1\n",
      "Test-Loss: 1.6492115419510511\n",
      "Test-Accuracy: 0.2591776798825257\n",
      "Train-Loss: 1.3543557250526002\n",
      "Train-Accuracy: 0.4254224834680382\n",
      "Epoch nr.: 2\n",
      "Test-Loss: 1.1127002643562898\n",
      "Test-Accuracy: 0.5609397944199707\n",
      "Train-Loss: 0.9959393425254065\n",
      "Train-Accuracy: 0.5903747244673034\n",
      "Epoch nr.: 3\n",
      "Test-Loss: 0.8787975990981386\n",
      "Test-Accuracy: 0.6262848751835536\n",
      "Train-Loss: 0.7469629661332676\n",
      "Train-Accuracy: 0.7355804555473916\n",
      "Epoch nr.: 4\n",
      "Test-Loss: 0.5332193672657013\n",
      "Test-Accuracy: 0.8384728340675477\n",
      "Train-Loss: 0.4415899863210695\n",
      "Train-Accuracy: 0.855253490080823\n",
      "Epoch nr.: 5\n",
      "Test-Loss: 0.42286566457553215\n",
      "Test-Accuracy: 0.8450807635829662\n",
      "Train-Loss: 0.3460882633984702\n",
      "Train-Accuracy: 0.8750918442321822\n",
      "Epoch nr.: 6\n",
      "Test-Loss: 0.32765743872749875\n",
      "Test-Accuracy: 0.882525697503671\n",
      "Train-Loss: 0.32166717127721667\n",
      "Train-Accuracy: 0.8817964731814842\n",
      "Epoch nr.: 7\n",
      "Test-Loss: 0.3381175394033828\n",
      "Test-Accuracy: 0.8803230543318649\n",
      "Train-Loss: 0.3085594490056886\n",
      "Train-Accuracy: 0.8877663482733285\n",
      "Final metrics: \n",
      "Test-Loss: 0.32188544178392453\n",
      "Test-Accuracy: 0.8891336270190896\n",
      "Train-Loss: 0.288630927151273\n",
      "Train-Accuracy: 0.8941954445260838\n"
     ]
    }
   ],
   "source": [
    "from data.datasets import DryBean\n",
    "from model.training import train_model\n",
    "\n",
    "model = train_model()[0]\n",
    "\n",
    "\n",
    "\n",
    "\n"
   ]
  },
  {
   "cell_type": "code",
   "execution_count": 10,
   "metadata": {},
   "outputs": [
    {
     "name": "stdout",
     "output_type": "stream",
     "text": [
      "tensor([0., 0., 0., 1., 0., 0., 0.])\n",
      "tensor([ -1.1628, -17.6076,  -5.6580,  12.4579,  -3.2940,   7.1996,   8.4602],\n",
      "       grad_fn=<AddBackward0>)\n",
      "tensor([-0.5787, -1.7392, -1.8341, -1.8474,  0.5648, -0.7242, -0.6304, -1.7664,\n",
      "        -2.1227,  3.6250,  3.0621, -0.8239,  9.8495,  6.5152, -1.1935,  2.4330])\n"
     ]
    }
   ],
   "source": [
    "from model.attribution_methods.integrated_gradients import IntegratedGradients\n",
    "from data.util.utils import DatasetMode\n",
    "\n",
    "dataset = DryBean(mode=DatasetMode.TEST)\n",
    "\n",
    "ig = IntegratedGradients(model.get_gradients_with_respect_to_inputs)\n",
    "\n",
    "x,true_y = dataset[0]\n",
    "model.eval()\n",
    "pred_y = model(x)\n",
    "print(true_y)\n",
    "print(pred_y)\n",
    "\n",
    "attribution_score = ig.attribute(x,target_label_index=None,n_steps=500)\n",
    "print(attribution_score)\n",
    "\n",
    "\n",
    "\n"
   ]
  },
  {
   "cell_type": "code",
   "execution_count": 11,
   "metadata": {},
   "outputs": [
    {
     "name": "stdout",
     "output_type": "stream",
     "text": [
      "tensor([[ 4.5494e-03, -3.8563e-01,  7.0007e-02, -4.5273e-01,  3.1659e+00,\n",
      "          4.7413e+00,  2.2999e-02, -1.9549e-01,  5.1713e-01,  1.2624e-01,\n",
      "          5.2115e-01, -5.7179e+00,  5.4327e+00, -2.8142e+00, -4.9261e+00,\n",
      "         -6.3311e+00]], grad_fn=<MulBackward0>)\n"
     ]
    }
   ],
   "source": [
    "dataset = DryBean(mode=DatasetMode.TEST)\n",
    "x,true_y = dataset[0]\n",
    "x = x.unsqueeze(0)\n",
    "input = x.clone().detach().requires_grad_(True)\n",
    "\n",
    "ig_captum = captum.attr.IntegratedGradients(model)\n",
    "\n",
    "attributions = ig_captum.attribute(input,method=\"riemann_right\", target=4,n_steps=500)\n",
    "print(attributions)"
   ]
  },
  {
   "cell_type": "code",
   "execution_count": 12,
   "metadata": {},
   "outputs": [
    {
     "name": "stdout",
     "output_type": "stream",
     "text": [
      "0\n"
     ]
    },
    {
     "ename": "TypeError",
     "evalue": "unsupported operand type(s) for -: 'tuple' and 'tuple'",
     "output_type": "error",
     "traceback": [
      "\u001b[1;31m---------------------------------------------------------------------------\u001b[0m",
      "\u001b[1;31mTypeError\u001b[0m                                 Traceback (most recent call last)",
      "Cell \u001b[1;32mIn[12], line 4\u001b[0m\n\u001b[0;32m      1\u001b[0m \u001b[39mfrom\u001b[39;00m \u001b[39mevaluation\u001b[39;00m \u001b[39mimport\u001b[39;00m IntegratedGradientsEvaluator\n\u001b[0;32m      3\u001b[0m evaluator \u001b[39m=\u001b[39m IntegratedGradientsEvaluator(model\u001b[39m=\u001b[39mmodel)\n\u001b[1;32m----> 4\u001b[0m \u001b[39mprint\u001b[39m(evaluator\u001b[39m.\u001b[39;49mmse_delta())\n",
      "File \u001b[1;32mc:\\Users\\leons\\programming\\PG Attribution Methods\\Project_Group_Attribution_Method\\evaluation\\integrated_gradients_evaluator.py:51\u001b[0m, in \u001b[0;36mIntegratedGradientsEvaluator.mse_delta\u001b[1;34m(self, n_steps, baseline)\u001b[0m\n\u001b[0;32m     48\u001b[0m model_prediction \u001b[39m=\u001b[39m \u001b[39mself\u001b[39m\u001b[39m.\u001b[39mmodel(x)\n\u001b[0;32m     49\u001b[0m model_prediction \u001b[39m=\u001b[39m model_prediction\u001b[39m.\u001b[39mmax()\n\u001b[1;32m---> 51\u001b[0m delta \u001b[39m=\u001b[39m \u001b[39mself\u001b[39;49m\u001b[39m.\u001b[39;49mmodel\u001b[39m.\u001b[39;49mget_max_feature(x) \u001b[39m-\u001b[39;49m \u001b[39mself\u001b[39;49m\u001b[39m.\u001b[39;49mmodel\u001b[39m.\u001b[39;49mget_max_feature(baseline)\n\u001b[0;32m     52\u001b[0m delta \u001b[39m=\u001b[39m (delta\u001b[39m.\u001b[39mitem() \u001b[39m-\u001b[39m attributions\u001b[39m.\u001b[39msum()\u001b[39m.\u001b[39mitem())\u001b[39m*\u001b[39m\u001b[39m*\u001b[39m\u001b[39m2\u001b[39m\n\u001b[0;32m     53\u001b[0m mse_delta \u001b[39m+\u001b[39m\u001b[39m=\u001b[39m delta\n",
      "\u001b[1;31mTypeError\u001b[0m: unsupported operand type(s) for -: 'tuple' and 'tuple'"
     ]
    }
   ],
   "source": [
    "from evaluation import IntegratedGradientsEvaluator\n",
    "\n",
    "evaluator = IntegratedGradientsEvaluator(model=model)\n",
    "print(evaluator.mse_delta())"
   ]
  },
  {
   "cell_type": "code",
   "execution_count": 13,
   "metadata": {},
   "outputs": [
    {
     "name": "stdout",
     "output_type": "stream",
     "text": [
      "tensor([4, 2, 3, 1])\n",
      "tensor([0, 2, 1, 3])\n",
      "tensor([0, 0, 0, 1])\n"
     ]
    }
   ],
   "source": [
    "tensor = torch.tensor([4,2,3,1])\n",
    "indices = tensor.argsort(descending=True)\n",
    "\n",
    "print(tensor)\n",
    "print(indices)\n",
    "\n",
    "tensor[indices[0:3]]=0\n",
    "print(tensor)"
   ]
  },
  {
   "cell_type": "code",
   "execution_count": null,
   "metadata": {},
   "outputs": [],
   "source": []
  }
 ],
 "metadata": {
  "kernelspec": {
   "display_name": "attribution_methods_venv",
   "language": "python",
   "name": "python3"
  },
  "language_info": {
   "codemirror_mode": {
    "name": "ipython",
    "version": 3
   },
   "file_extension": ".py",
   "mimetype": "text/x-python",
   "name": "python",
   "nbconvert_exporter": "python",
   "pygments_lexer": "ipython3",
   "version": "3.10.8"
  },
  "orig_nbformat": 4
 },
 "nbformat": 4,
 "nbformat_minor": 2
}
