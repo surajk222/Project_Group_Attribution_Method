{
 "cells": [
  {
   "cell_type": "markdown",
   "metadata": {},
   "source": [
    "The aim of this workbook is to explore the Integrated Gradients implementation."
   ]
  },
  {
   "cell_type": "code",
   "execution_count": null,
   "metadata": {},
   "outputs": [],
   "source": [
    "import captum.attr\n",
    "import torch"
   ]
  },
  {
   "cell_type": "code",
   "execution_count": null,
   "metadata": {},
   "outputs": [
    {
     "name": "stdout",
     "output_type": "stream",
     "text": [
      "tensor([0., 0., 0., 1., 0., 0., 0.])\n",
      "tensor([ -1.1628, -17.6076,  -5.6580,  12.4579,  -3.2940,   7.1996,   8.4602],\n",
      "       grad_fn=<AddBackward0>)\n",
      "tensor([-0.5787, -1.7392, -1.8341, -1.8474,  0.5648, -0.7242, -0.6304, -1.7664,\n",
      "        -2.1227,  3.6250,  3.0621, -0.8239,  9.8495,  6.5152, -1.1935,  2.4330])\n"
     ]
    }
   ],
   "source": [
    "from model.attribution_methods.integrated_gradients import IntegratedGradients\n",
    "from data.util.utils import DatasetMode\n",
    "\n",
    "dataset = DryBean(mode=DatasetMode.TEST)\n",
    "\n",
    "ig = IntegratedGradients(model.get_gradients_with_respect_to_inputs)\n",
    "\n",
    "x,true_y = dataset[0]\n",
    "model.eval()\n",
    "pred_y = model(x)\n",
    "print(true_y)\n",
    "print(pred_y)\n",
    "\n",
    "attribution_score = ig.attribute(x,target_label_index=None,n_steps=500)\n",
    "print(attribution_score)\n",
    "\n",
    "\n"
   ]
  },
  {
   "cell_type": "code",
   "execution_count": null,
   "metadata": {},
   "outputs": [],
   "source": [
    "dataset = DryBean(mode=DatasetMode.TEST)\n",
    "x,true_y = dataset[0]\n",
    "x = x.unsqueeze(0)\n",
    "input = x.clone().detach().requires_grad_(True)\n",
    "\n",
    "ig_captum = captum.attr.IntegratedGradients(model)\n",
    "\n",
    "attributions = ig_captum.attribute(input,method=\"riemann_right\", target=4,n_steps=500)\n",
    "print(attributions)"
   ]
  },
  {
   "cell_type": "code",
   "execution_count": null,
   "metadata": {},
   "outputs": [
    {
     "name": "stdout",
     "output_type": "stream",
     "text": [
      "0\n"
     ]
    },
    {
     "ename": "TypeError",
     "evalue": "unsupported operand type(s) for -: 'tuple' and 'tuple'",
     "output_type": "error",
     "traceback": [
      "\u001b[1;31m---------------------------------------------------------------------------\u001b[0m\n",
      "\u001b[1;31mTypeError\u001b[0m                                 Traceback (most recent call last)\n",
      "Cell \u001b[1;32mIn[12], line 4\u001b[0m\n",
      "\u001b[0;32m      1\u001b[0m \u001b[39mfrom\u001b[39;00m \u001b[39mevaluation\u001b[39;00m \u001b[39mimport\u001b[39;00m IntegratedGradientsEvaluator\n",
      "\u001b[0;32m      3\u001b[0m evaluator \u001b[39m=\u001b[39m IntegratedGradientsEvaluator(model\u001b[39m=\u001b[39mmodel)\n",
      "\u001b[1;32m----> 4\u001b[0m \u001b[39mprint\u001b[39m(evaluator\u001b[39m.\u001b[39;49mmse_delta())\n",
      "\n",
      "File \u001b[1;32mc:\\Users\\leons\\programming\\PG Attribution Methods\\Project_Group_Attribution_Method\\evaluation\\integrated_gradients_evaluator.py:51\u001b[0m, in \u001b[0;36mIntegratedGradientsEvaluator.mse_delta\u001b[1;34m(self, n_steps, baseline)\u001b[0m\n",
      "\u001b[0;32m     48\u001b[0m model_prediction \u001b[39m=\u001b[39m \u001b[39mself\u001b[39m\u001b[39m.\u001b[39mmodel(x)\n",
      "\u001b[0;32m     49\u001b[0m model_prediction \u001b[39m=\u001b[39m model_prediction\u001b[39m.\u001b[39mmax()\n",
      "\u001b[1;32m---> 51\u001b[0m delta \u001b[39m=\u001b[39m \u001b[39mself\u001b[39;49m\u001b[39m.\u001b[39;49mmodel\u001b[39m.\u001b[39;49mget_max_feature(x) \u001b[39m-\u001b[39;49m \u001b[39mself\u001b[39;49m\u001b[39m.\u001b[39;49mmodel\u001b[39m.\u001b[39;49mget_max_feature(baseline)\n",
      "\u001b[0;32m     52\u001b[0m delta \u001b[39m=\u001b[39m (delta\u001b[39m.\u001b[39mitem() \u001b[39m-\u001b[39m attributions\u001b[39m.\u001b[39msum()\u001b[39m.\u001b[39mitem())\u001b[39m*\u001b[39m\u001b[39m*\u001b[39m\u001b[39m2\u001b[39m\n",
      "\u001b[0;32m     53\u001b[0m mse_delta \u001b[39m+\u001b[39m\u001b[39m=\u001b[39m delta\n",
      "\n",
      "\u001b[1;31mTypeError\u001b[0m: unsupported operand type(s) for -: 'tuple' and 'tuple'"
     ]
    }
   ],
   "source": [
    "from evaluation import IntegratedGradientsEvaluator\n",
    "\n",
    "evaluator = IntegratedGradientsEvaluator(model=model)\n",
    "print(evaluator.mse_delta())"
   ]
  },
  {
   "cell_type": "code",
   "execution_count": null,
   "metadata": {},
   "outputs": [
    {
     "name": "stdout",
     "output_type": "stream",
     "text": [
      "tensor([4, 2, 3, 1])\n",
      "tensor([0, 2, 1, 3])\n",
      "tensor([0, 0, 0, 1])\n"
     ]
    }
   ],
   "source": [
    "tensor = torch.tensor([4,2,3,1])\n",
    "indices = tensor.argsort(descending=True)\n",
    "\n",
    "print(tensor)\n",
    "print(indices)\n",
    "\n",
    "tensor[indices[0:3]]=0\n",
    "print(tensor)"
   ]
  }
 ],
 "metadata": {
  "language_info": {
   "name": "python"
  },
  "orig_nbformat": 4
 },
 "nbformat": 4,
 "nbformat_minor": 2
}
