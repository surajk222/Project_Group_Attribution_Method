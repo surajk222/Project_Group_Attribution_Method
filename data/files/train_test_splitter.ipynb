{
 "cells": [
  {
   "cell_type": "code",
   "execution_count": 1,
   "metadata": {},
   "outputs": [],
   "source": [
    "import pandas as pd\n",
    "import numpy as np\n",
    "\n",
    "original_dataset_path = \"./raw/Dry_Bean_Dataset.xlsx\"\n",
    "store_datasat_path = \"./splitted/\"\n",
    "generator = np.random.default_rng()\n",
    "train_size_fraction = 0.8\n",
    "validation_size_fraction = 0.1\n",
    "#the remaining datapoints are assigned to the test dataset\n",
    "\n",
    "#read from excel-file\n",
    "dataset_dataframe = pd.read_excel(io=original_dataset_path)\n",
    "dataset_column_names = dataset_dataframe.columns\n",
    "\n",
    "#convert into numpy array\n",
    "dataset_array = np.array(dataset_dataframe) #13611x17\n",
    "\n",
    "#shuffle array\n",
    "generator.shuffle(dataset_array, axis=0)\n",
    "\n",
    "#calculate sizes\n",
    "train_size = int(train_size_fraction*len(dataset_array))\n",
    "validation_size = int(validation_size_fraction*len(dataset_array))\n",
    "test_size = len(dataset_array) - train_size - validation_size\n",
    "\n",
    "#split dataset into train, validation and test sets\n",
    "train_dataset = dataset_array[0:train_size,:]\n",
    "validation_dataset = dataset_array[train_size:train_size+validation_size,:]\n",
    "test_dataset = dataset_array[train_size+validation_size:,:]\n",
    "\n",
    "#save train, validation and test-dataset as csv\n",
    "train_dataset_df = pd.DataFrame(train_dataset,columns=dataset_column_names)\n",
    "validation_dataset_df = pd.DataFrame(validation_dataset, columns=dataset_column_names)\n",
    "test_dataset_df = pd.DataFrame(test_dataset,columns=dataset_column_names)\n",
    "\n",
    "\n",
    "train_dataset_df.to_csv(path_or_buf=store_datasat_path + \"Dry_Bean_Dataset_Train.csv\",sep=\";\",index=False)\n",
    "validation_dataset_df.to_csv(path_or_buf=store_datasat_path + \"Dry_Bean_Dataset_Validation.csv\",sep=\";\",index=False)\n",
    "test_dataset_df.to_csv(path_or_buf=store_datasat_path + \"Dry_Bean_Dataset_Test.csv\", sep=\";\",index=False)"
   ]
  },
  {
   "cell_type": "code",
   "execution_count": null,
   "metadata": {},
   "outputs": [],
   "source": []
  }
 ],
 "metadata": {
  "kernelspec": {
   "display_name": "attribution_methods_venv",
   "language": "python",
   "name": "python3"
  },
  "language_info": {
   "codemirror_mode": {
    "name": "ipython",
    "version": 3
   },
   "file_extension": ".py",
   "mimetype": "text/x-python",
   "name": "python",
   "nbconvert_exporter": "python",
   "pygments_lexer": "ipython3",
   "version": "3.10.8"
  },
  "orig_nbformat": 4
 },
 "nbformat": 4,
 "nbformat_minor": 2
}
